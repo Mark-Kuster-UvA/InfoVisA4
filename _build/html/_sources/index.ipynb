{
 "cells": [
  {
   "cell_type": "markdown",
   "metadata": {},
   "source": [
    "### Introduction\n",
    "The housing crisis is becoming an increasingly urgent issue across many countries,\n",
    "especially in urban areas. It is clear that house prices have been growing significantly more than a decade ago. Throughout history, the house prices have never seen as much growth as the 20’th century (Knoll, K., Schularick, M., & Steger, T., 2017). While home prices have surged over the last decade, average\n",
    "incomes have not been able to keep growing at the same pace, making housing\n",
    "progressively more unaffordable for large portions of the population. This data visualization\n",
    "will explore how the gap between home prices and income has progressed over time and\n",
    "across regions and within the netherlands, aiming to explore patterns and consequences of this\n",
    "imbalance.\n",
    "\n",
    "**First perspective: unaffordable for first-time buyers**\n",
    "\n",
    "Recently, housing has become increasingly unaffordable for first-time buyers. \n",
    "Home prices have risen much faster than\n",
    "average wages, which undermines first-time buyers. The substantial growth in housing prices combined with the tight house market forms a harsh reality for first-time buyers (E.M.J. Veerhoek. 2024) This affordability gap forces many to\n",
    "delay homeownership or go into increasingly higher loans. There are also things such as\n",
    "the need for larger down payments, rising rents, and stricter lending standards that limit\n",
    "homeownership. \n",
    "\n",
    "In this perspective, we will be comparing the growth of house prices against income. we will also show the trouble first time buyers go through, by showing how much starters have to pay relative to their income. Besides that, we will also highlight de difference between provinces. \n",
    "\n",
    "**Second perspective: Contextualizing affordability through changing conditions**\n",
    "\n",
    "While\n",
    "housing may seem unaffordable at first glance, there might be more economic and social\n",
    "changes at play. Interest rates are currently at an all-time low, which can compensate for\n",
    "the high prices by lowering the monthly mortgage costs. There are also government\n",
    "subsidies, changing living preferences and a growth in alternative living arrangements that\n",
    "offer paths to affordability in housing. Location also plays a key role in pricing: while urban\n",
    "centers might be expensive, there are also many areas that still offer relatively affordable\n",
    "housing options. Alternative housing such as tiny houses might also be the new future of housing (Shearer, H., & Burton, P. 2018), proving to be a sustainable and affordable alternative.  \n",
    "\n",
    "In this perspective, we will be comparing house values to monthly costs at a fixed interest rate. We will also look at the upcoming of alternative housing options, to show cheaper alternatives in the current market. Then we will show the difference of house prices between regions, to underline the fact that moving to different parts of the county might lessen the financial pressure of entering and sustaining in the current house market. "
   ]
  },
  {
   "cell_type": "markdown",
   "metadata": {},
   "source": [
    "### Dataset and preprocessing\n",
    "\n",
    "To make the datasets more easily usable for this infovisual, the datasets needed to be streamlined. This was done by removing any data with unneeded information and keeping only the specific information that was needed to make the correct visualization. This was to make it easier to make the code and that there was no hardcoding needed, because the datasets were easily readable by modules like plotly.\n",
    "\n",
    "The structure of the used datasets does not differ much. Most datasets are made up of a few important parts. Firstly, every dataset has a date, to make sure we can document every change over time. Secondly, almost all the datasets have been divided into different provinces and/or cities. The third variable will differ between datasets. This variable is what distinguishes the dataset from each other. The focus for the datasets is to be relevant in current time, so most of the data will be post 2010’s. Most columns in the datasets are also renamed and translated, since they were provided in dutch. It is also possible for some columns that were not of use to be removed. "
   ]
  },
  {
   "cell_type": "markdown",
   "metadata": {},
   "source": [
    "### 📈 Argument 1.1: Housing Prices vs. Income (2011–2023)\n",
    "\n",
    "This dual-axis line chart visualizes the divergence between average home prices and standardized disposable income in the Netherlands from 2011 to 2023. \n",
    "\n",
    "- The **left Y-axis** shows average home prices in euros.\n",
    "- The **right Y-axis** shows standardized disposable income in euros.\n",
    "- Both variables are plotted over the years 2011–2023.\n",
    "\n",
    "While income has increased gradually over the years, **home prices have risen much more sharply**. The visualization highlights the growing affordability gap for first-time buyers, showing that income growth has **not kept pace** with the rapid rise in housing costs.\n",
    "\n",
    "This supports the argument that housing has become increasingly unaffordable for starters.\n"
   ]
  },
  {
   "cell_type": "code",
   "execution_count": 1,
   "metadata": {},
   "outputs": [
    {
     "data": {
      "application/vnd.plotly.v1+json": {
       "config": {
        "plotlyServerURL": "https://plot.ly"
       },
       "data": [
        {
         "line": {
          "width": 3
         },
         "mode": "lines+markers",
         "name": "House Price (€)",
         "type": "scatter",
         "x": [
          2015,
          2016,
          2017,
          2018,
          2019,
          2020,
          2021,
          2022
         ],
         "xaxis": "x",
         "y": [
          230194,
          243837,
          263295,
          287267,
          307978,
          334488,
          386714,
          428591
         ],
         "yaxis": "y"
        },
        {
         "line": {
          "dash": "dot",
          "width": 3
         },
         "mode": "lines+markers",
         "name": "Disposable Income (€)",
         "type": "scatter",
         "x": [
          2015,
          2016,
          2017,
          2018,
          2019,
          2020,
          2021,
          2022
         ],
         "xaxis": "x",
         "y": [
          31.8,
          33,
          33.7,
          33.4,
          34.9,
          35,
          35.9,
          35.4
         ],
         "yaxis": "y2"
        }
       ],
       "layout": {
        "height": 600,
        "legend": {
         "x": 0.02,
         "y": 0.98
        },
        "template": {
         "data": {
          "bar": [
           {
            "error_x": {
             "color": "#2a3f5f"
            },
            "error_y": {
             "color": "#2a3f5f"
            },
            "marker": {
             "line": {
              "color": "white",
              "width": 0.5
             },
             "pattern": {
              "fillmode": "overlay",
              "size": 10,
              "solidity": 0.2
             }
            },
            "type": "bar"
           }
          ],
          "barpolar": [
           {
            "marker": {
             "line": {
              "color": "white",
              "width": 0.5
             },
             "pattern": {
              "fillmode": "overlay",
              "size": 10,
              "solidity": 0.2
             }
            },
            "type": "barpolar"
           }
          ],
          "carpet": [
           {
            "aaxis": {
             "endlinecolor": "#2a3f5f",
             "gridcolor": "#C8D4E3",
             "linecolor": "#C8D4E3",
             "minorgridcolor": "#C8D4E3",
             "startlinecolor": "#2a3f5f"
            },
            "baxis": {
             "endlinecolor": "#2a3f5f",
             "gridcolor": "#C8D4E3",
             "linecolor": "#C8D4E3",
             "minorgridcolor": "#C8D4E3",
             "startlinecolor": "#2a3f5f"
            },
            "type": "carpet"
           }
          ],
          "choropleth": [
           {
            "colorbar": {
             "outlinewidth": 0,
             "ticks": ""
            },
            "type": "choropleth"
           }
          ],
          "contour": [
           {
            "colorbar": {
             "outlinewidth": 0,
             "ticks": ""
            },
            "colorscale": [
             [
              0,
              "#0d0887"
             ],
             [
              0.1111111111111111,
              "#46039f"
             ],
             [
              0.2222222222222222,
              "#7201a8"
             ],
             [
              0.3333333333333333,
              "#9c179e"
             ],
             [
              0.4444444444444444,
              "#bd3786"
             ],
             [
              0.5555555555555556,
              "#d8576b"
             ],
             [
              0.6666666666666666,
              "#ed7953"
             ],
             [
              0.7777777777777778,
              "#fb9f3a"
             ],
             [
              0.8888888888888888,
              "#fdca26"
             ],
             [
              1,
              "#f0f921"
             ]
            ],
            "type": "contour"
           }
          ],
          "contourcarpet": [
           {
            "colorbar": {
             "outlinewidth": 0,
             "ticks": ""
            },
            "type": "contourcarpet"
           }
          ],
          "heatmap": [
           {
            "colorbar": {
             "outlinewidth": 0,
             "ticks": ""
            },
            "colorscale": [
             [
              0,
              "#0d0887"
             ],
             [
              0.1111111111111111,
              "#46039f"
             ],
             [
              0.2222222222222222,
              "#7201a8"
             ],
             [
              0.3333333333333333,
              "#9c179e"
             ],
             [
              0.4444444444444444,
              "#bd3786"
             ],
             [
              0.5555555555555556,
              "#d8576b"
             ],
             [
              0.6666666666666666,
              "#ed7953"
             ],
             [
              0.7777777777777778,
              "#fb9f3a"
             ],
             [
              0.8888888888888888,
              "#fdca26"
             ],
             [
              1,
              "#f0f921"
             ]
            ],
            "type": "heatmap"
           }
          ],
          "heatmapgl": [
           {
            "colorbar": {
             "outlinewidth": 0,
             "ticks": ""
            },
            "colorscale": [
             [
              0,
              "#0d0887"
             ],
             [
              0.1111111111111111,
              "#46039f"
             ],
             [
              0.2222222222222222,
              "#7201a8"
             ],
             [
              0.3333333333333333,
              "#9c179e"
             ],
             [
              0.4444444444444444,
              "#bd3786"
             ],
             [
              0.5555555555555556,
              "#d8576b"
             ],
             [
              0.6666666666666666,
              "#ed7953"
             ],
             [
              0.7777777777777778,
              "#fb9f3a"
             ],
             [
              0.8888888888888888,
              "#fdca26"
             ],
             [
              1,
              "#f0f921"
             ]
            ],
            "type": "heatmapgl"
           }
          ],
          "histogram": [
           {
            "marker": {
             "pattern": {
              "fillmode": "overlay",
              "size": 10,
              "solidity": 0.2
             }
            },
            "type": "histogram"
           }
          ],
          "histogram2d": [
           {
            "colorbar": {
             "outlinewidth": 0,
             "ticks": ""
            },
            "colorscale": [
             [
              0,
              "#0d0887"
             ],
             [
              0.1111111111111111,
              "#46039f"
             ],
             [
              0.2222222222222222,
              "#7201a8"
             ],
             [
              0.3333333333333333,
              "#9c179e"
             ],
             [
              0.4444444444444444,
              "#bd3786"
             ],
             [
              0.5555555555555556,
              "#d8576b"
             ],
             [
              0.6666666666666666,
              "#ed7953"
             ],
             [
              0.7777777777777778,
              "#fb9f3a"
             ],
             [
              0.8888888888888888,
              "#fdca26"
             ],
             [
              1,
              "#f0f921"
             ]
            ],
            "type": "histogram2d"
           }
          ],
          "histogram2dcontour": [
           {
            "colorbar": {
             "outlinewidth": 0,
             "ticks": ""
            },
            "colorscale": [
             [
              0,
              "#0d0887"
             ],
             [
              0.1111111111111111,
              "#46039f"
             ],
             [
              0.2222222222222222,
              "#7201a8"
             ],
             [
              0.3333333333333333,
              "#9c179e"
             ],
             [
              0.4444444444444444,
              "#bd3786"
             ],
             [
              0.5555555555555556,
              "#d8576b"
             ],
             [
              0.6666666666666666,
              "#ed7953"
             ],
             [
              0.7777777777777778,
              "#fb9f3a"
             ],
             [
              0.8888888888888888,
              "#fdca26"
             ],
             [
              1,
              "#f0f921"
             ]
            ],
            "type": "histogram2dcontour"
           }
          ],
          "mesh3d": [
           {
            "colorbar": {
             "outlinewidth": 0,
             "ticks": ""
            },
            "type": "mesh3d"
           }
          ],
          "parcoords": [
           {
            "line": {
             "colorbar": {
              "outlinewidth": 0,
              "ticks": ""
             }
            },
            "type": "parcoords"
           }
          ],
          "pie": [
           {
            "automargin": true,
            "type": "pie"
           }
          ],
          "scatter": [
           {
            "fillpattern": {
             "fillmode": "overlay",
             "size": 10,
             "solidity": 0.2
            },
            "type": "scatter"
           }
          ],
          "scatter3d": [
           {
            "line": {
             "colorbar": {
              "outlinewidth": 0,
              "ticks": ""
             }
            },
            "marker": {
             "colorbar": {
              "outlinewidth": 0,
              "ticks": ""
             }
            },
            "type": "scatter3d"
           }
          ],
          "scattercarpet": [
           {
            "marker": {
             "colorbar": {
              "outlinewidth": 0,
              "ticks": ""
             }
            },
            "type": "scattercarpet"
           }
          ],
          "scattergeo": [
           {
            "marker": {
             "colorbar": {
              "outlinewidth": 0,
              "ticks": ""
             }
            },
            "type": "scattergeo"
           }
          ],
          "scattergl": [
           {
            "marker": {
             "colorbar": {
              "outlinewidth": 0,
              "ticks": ""
             }
            },
            "type": "scattergl"
           }
          ],
          "scattermapbox": [
           {
            "marker": {
             "colorbar": {
              "outlinewidth": 0,
              "ticks": ""
             }
            },
            "type": "scattermapbox"
           }
          ],
          "scatterpolar": [
           {
            "marker": {
             "colorbar": {
              "outlinewidth": 0,
              "ticks": ""
             }
            },
            "type": "scatterpolar"
           }
          ],
          "scatterpolargl": [
           {
            "marker": {
             "colorbar": {
              "outlinewidth": 0,
              "ticks": ""
             }
            },
            "type": "scatterpolargl"
           }
          ],
          "scatterternary": [
           {
            "marker": {
             "colorbar": {
              "outlinewidth": 0,
              "ticks": ""
             }
            },
            "type": "scatterternary"
           }
          ],
          "surface": [
           {
            "colorbar": {
             "outlinewidth": 0,
             "ticks": ""
            },
            "colorscale": [
             [
              0,
              "#0d0887"
             ],
             [
              0.1111111111111111,
              "#46039f"
             ],
             [
              0.2222222222222222,
              "#7201a8"
             ],
             [
              0.3333333333333333,
              "#9c179e"
             ],
             [
              0.4444444444444444,
              "#bd3786"
             ],
             [
              0.5555555555555556,
              "#d8576b"
             ],
             [
              0.6666666666666666,
              "#ed7953"
             ],
             [
              0.7777777777777778,
              "#fb9f3a"
             ],
             [
              0.8888888888888888,
              "#fdca26"
             ],
             [
              1,
              "#f0f921"
             ]
            ],
            "type": "surface"
           }
          ],
          "table": [
           {
            "cells": {
             "fill": {
              "color": "#EBF0F8"
             },
             "line": {
              "color": "white"
             }
            },
            "header": {
             "fill": {
              "color": "#C8D4E3"
             },
             "line": {
              "color": "white"
             }
            },
            "type": "table"
           }
          ]
         },
         "layout": {
          "annotationdefaults": {
           "arrowcolor": "#2a3f5f",
           "arrowhead": 0,
           "arrowwidth": 1
          },
          "autotypenumbers": "strict",
          "coloraxis": {
           "colorbar": {
            "outlinewidth": 0,
            "ticks": ""
           }
          },
          "colorscale": {
           "diverging": [
            [
             0,
             "#8e0152"
            ],
            [
             0.1,
             "#c51b7d"
            ],
            [
             0.2,
             "#de77ae"
            ],
            [
             0.3,
             "#f1b6da"
            ],
            [
             0.4,
             "#fde0ef"
            ],
            [
             0.5,
             "#f7f7f7"
            ],
            [
             0.6,
             "#e6f5d0"
            ],
            [
             0.7,
             "#b8e186"
            ],
            [
             0.8,
             "#7fbc41"
            ],
            [
             0.9,
             "#4d9221"
            ],
            [
             1,
             "#276419"
            ]
           ],
           "sequential": [
            [
             0,
             "#0d0887"
            ],
            [
             0.1111111111111111,
             "#46039f"
            ],
            [
             0.2222222222222222,
             "#7201a8"
            ],
            [
             0.3333333333333333,
             "#9c179e"
            ],
            [
             0.4444444444444444,
             "#bd3786"
            ],
            [
             0.5555555555555556,
             "#d8576b"
            ],
            [
             0.6666666666666666,
             "#ed7953"
            ],
            [
             0.7777777777777778,
             "#fb9f3a"
            ],
            [
             0.8888888888888888,
             "#fdca26"
            ],
            [
             1,
             "#f0f921"
            ]
           ],
           "sequentialminus": [
            [
             0,
             "#0d0887"
            ],
            [
             0.1111111111111111,
             "#46039f"
            ],
            [
             0.2222222222222222,
             "#7201a8"
            ],
            [
             0.3333333333333333,
             "#9c179e"
            ],
            [
             0.4444444444444444,
             "#bd3786"
            ],
            [
             0.5555555555555556,
             "#d8576b"
            ],
            [
             0.6666666666666666,
             "#ed7953"
            ],
            [
             0.7777777777777778,
             "#fb9f3a"
            ],
            [
             0.8888888888888888,
             "#fdca26"
            ],
            [
             1,
             "#f0f921"
            ]
           ]
          },
          "colorway": [
           "#636efa",
           "#EF553B",
           "#00cc96",
           "#ab63fa",
           "#FFA15A",
           "#19d3f3",
           "#FF6692",
           "#B6E880",
           "#FF97FF",
           "#FECB52"
          ],
          "font": {
           "color": "#2a3f5f"
          },
          "geo": {
           "bgcolor": "white",
           "lakecolor": "white",
           "landcolor": "white",
           "showlakes": true,
           "showland": true,
           "subunitcolor": "#C8D4E3"
          },
          "hoverlabel": {
           "align": "left"
          },
          "hovermode": "closest",
          "mapbox": {
           "style": "light"
          },
          "paper_bgcolor": "white",
          "plot_bgcolor": "white",
          "polar": {
           "angularaxis": {
            "gridcolor": "#EBF0F8",
            "linecolor": "#EBF0F8",
            "ticks": ""
           },
           "bgcolor": "white",
           "radialaxis": {
            "gridcolor": "#EBF0F8",
            "linecolor": "#EBF0F8",
            "ticks": ""
           }
          },
          "scene": {
           "xaxis": {
            "backgroundcolor": "white",
            "gridcolor": "#DFE8F3",
            "gridwidth": 2,
            "linecolor": "#EBF0F8",
            "showbackground": true,
            "ticks": "",
            "zerolinecolor": "#EBF0F8"
           },
           "yaxis": {
            "backgroundcolor": "white",
            "gridcolor": "#DFE8F3",
            "gridwidth": 2,
            "linecolor": "#EBF0F8",
            "showbackground": true,
            "ticks": "",
            "zerolinecolor": "#EBF0F8"
           },
           "zaxis": {
            "backgroundcolor": "white",
            "gridcolor": "#DFE8F3",
            "gridwidth": 2,
            "linecolor": "#EBF0F8",
            "showbackground": true,
            "ticks": "",
            "zerolinecolor": "#EBF0F8"
           }
          },
          "shapedefaults": {
           "line": {
            "color": "#2a3f5f"
           }
          },
          "ternary": {
           "aaxis": {
            "gridcolor": "#DFE8F3",
            "linecolor": "#A2B1C6",
            "ticks": ""
           },
           "baxis": {
            "gridcolor": "#DFE8F3",
            "linecolor": "#A2B1C6",
            "ticks": ""
           },
           "bgcolor": "white",
           "caxis": {
            "gridcolor": "#DFE8F3",
            "linecolor": "#A2B1C6",
            "ticks": ""
           }
          },
          "title": {
           "x": 0.05
          },
          "xaxis": {
           "automargin": true,
           "gridcolor": "#EBF0F8",
           "linecolor": "#EBF0F8",
           "ticks": "",
           "title": {
            "standoff": 15
           },
           "zerolinecolor": "#EBF0F8",
           "zerolinewidth": 2
          },
          "yaxis": {
           "automargin": true,
           "gridcolor": "#EBF0F8",
           "linecolor": "#EBF0F8",
           "ticks": "",
           "title": {
            "standoff": 15
           },
           "zerolinecolor": "#EBF0F8",
           "zerolinewidth": 2
          }
         }
        },
        "title": {
         "text": "Comparison of House Prices and Income (2011–2023)"
        },
        "xaxis": {
         "anchor": "y",
         "domain": [
          0,
          0.94
         ],
         "title": {
          "text": "Year"
         }
        },
        "yaxis": {
         "anchor": "x",
         "domain": [
          0,
          1
         ],
         "title": {
          "text": "House Price (€)"
         }
        },
        "yaxis2": {
         "anchor": "x",
         "overlaying": "y",
         "side": "right",
         "title": {
          "text": "Standardized Income (€)"
         }
        }
       }
      }
     },
     "metadata": {},
     "output_type": "display_data"
    }
   ],
   "source": [
    "import pandas as pd\n",
    "import plotly.graph_objects as go\n",
    "from plotly.subplots import make_subplots\n",
    "\n",
    "bruto_df = pd.read_csv('gemmideld_bruto_inkomen.csv', delimiter=',')\n",
    "besteedbaar_df = pd.read_csv('gemmideld_inkomen.csv', delimiter=',')\n",
    "huisprijs_df = pd.read_csv('huisprijs.csv', delimiter=',')\n",
    "\n",
    "bruto_df.columns = bruto_df.columns.str.strip()\n",
    "besteedbaar_df.columns = besteedbaar_df.columns.str.strip()\n",
    "huisprijs_df.columns = huisprijs_df.columns.str.strip()\n",
    "\n",
    "def clean_income_data(df, year_col, value_col):\n",
    "    df = df[[year_col, value_col]].copy()\n",
    "    df[year_col] = df[year_col].astype(str).str.extract(r'(\\d{4})').astype(float)\n",
    "    df[value_col] = df[value_col].astype(str).str.replace(',', '.').astype(float)\n",
    "    return df[(df[year_col] >= 2011) & (df[year_col] <= 2023)].reset_index(drop=True)\n",
    "\n",
    "bruto_clean = clean_income_data(bruto_df, 'Category', 'Gemiddeld bruto inkomen')\n",
    "besteedbaar_clean = clean_income_data(besteedbaar_df, 'Category', 'Gestandaardiseerd besteedbaar inkomen')\n",
    "bruto_clean.columns = ['Year', 'Gross Income']\n",
    "besteedbaar_clean.columns = ['Year', 'Disposable Income']\n",
    "\n",
    "huisprijs_df = huisprijs_df[huisprijs_df['Perioden'].astype(str).str.match(r'^\\d{4}$')]\n",
    "huisprijs_df['Perioden'] = huisprijs_df['Perioden'].astype(int)\n",
    "huisprijs_df['Gemiddelde verkoopprijs (euro)'] = huisprijs_df['Gemiddelde verkoopprijs (euro)']\\\n",
    "    .astype(str).str.replace('.', '', regex=False).str.replace(',', '.', regex=False).astype(float)\n",
    "huisprijs_clean = huisprijs_df[(huisprijs_df['Perioden'] >= 2011) & (huisprijs_df['Perioden'] <= 2023)][\n",
    "    ['Perioden', 'Gemiddelde verkoopprijs (euro)']].reset_index(drop=True)\n",
    "huisprijs_clean.columns = ['Year', 'House Price']\n",
    "\n",
    "merged_df = pd.merge(huisprijs_clean, bruto_clean, on='Year', how='inner')\n",
    "merged_df = pd.merge(merged_df, besteedbaar_clean, on='Year', how='inner')\n",
    "\n",
    "fig = make_subplots(specs=[[{\"secondary_y\": True}]])\n",
    "fig.add_trace(go.Scatter(\n",
    "    x=merged_df['Year'],\n",
    "    y=merged_df['House Price'],\n",
    "    mode='lines+markers',\n",
    "    name='House Price (€)',\n",
    "    line=dict(width=3)\n",
    "), secondary_y=False)\n",
    "fig.add_trace(go.Scatter(\n",
    "    x=merged_df['Year'],\n",
    "    y=merged_df['Disposable Income'],\n",
    "    mode='lines+markers',\n",
    "    name='Disposable Income (€)',\n",
    "    line=dict(dash='dot', width=3)\n",
    "), secondary_y=True)\n",
    "\n",
    "fig.update_layout(\n",
    "    title=\"Comparison of House Prices and Income (2011–2023)\",\n",
    "    xaxis_title=\"Year\",\n",
    "    legend=dict(x=0.02, y=0.98),\n",
    "    template=\"plotly_white\",\n",
    "    height=600\n",
    ")\n",
    "fig.update_yaxes(title_text=\"House Price (€)\", secondary_y=False)\n",
    "fig.update_yaxes(title_text=\"Standardized Income (€)\", secondary_y=True)\n",
    "\n",
    "fig.show()\n"
   ]
  },
  {
   "cell_type": "markdown",
   "metadata": {},
   "source": [
    "### 📊 Argument 1.2: First-time buyers have relatively higher mortgage debt\n",
    "\n",
    "This 3D visualization shows the relationship between gross income, age and the Loan-to-Income (LTI) ratio of households in the Netherlands (CBS, 2022).\n",
    "\n",
    "- **X-axis**: Gross income (€) per age group (estimated or based on CBS/Knab data)\n",
    "- **Y-axis**: Age of the main breadwinner (average per group)\n",
    "- **Z-axis**: Loan-to-Income (LTI): the ratio between mortgage debt and gross income\n",
    "\n",
    "**Observations:**\n",
    "- Younger age groups (25–35 years) have a lower income, but a relatively high LTI.\n",
    "- Older age groups (45–65 years) have a higher income, but lower LTI ratios.\n",
    "- This highlights that first-time buyers are spending a larger portion of their income on mortgage payments — an indication of reduced affordability.\n",
    "\n",
    "The color coding by age group helps visually distinguish trends."
   ]
  },
  {
   "cell_type": "code",
   "execution_count": 2,
   "metadata": {},
   "outputs": [
    {
     "data": {
      "application/vnd.plotly.v1+json": {
       "config": {
        "plotlyServerURL": "https://plot.ly"
       },
       "data": [
        {
         "hovertemplate": "<b>%{text}</b><br><br>Gross Income: €%{x:,.0f}<br>Age: %{y}<br>LTI: %{z:.2f}",
         "legendgroup": "Primary earner: under 25",
         "marker": {
          "color": "#636efa",
          "size": 12,
          "symbol": "circle"
         },
         "mode": "markers+text",
         "name": "Primary earner: under 25",
         "scene": "scene",
         "showlegend": true,
         "text": [
          "Primary earner: under 25"
         ],
         "textposition": "top center",
         "type": "scatter3d",
         "x": [
          11000
         ],
         "y": [
          22
         ],
         "z": [
          2.63
         ]
        },
        {
         "hovertemplate": "<b>%{text}</b><br><br>Gross Income: €%{x:,.0f}<br>Age: %{y}<br>LTI: %{z:.2f}",
         "legendgroup": "Primary earner: 45-65",
         "marker": {
          "color": "#EF553B",
          "size": 12,
          "symbol": "circle"
         },
         "mode": "markers+text",
         "name": "Primary earner: 45-65",
         "scene": "scene",
         "showlegend": true,
         "text": [
          "Primary earner: 45-65"
         ],
         "textposition": "top center",
         "type": "scatter3d",
         "x": [
          40000
         ],
         "y": [
          55
         ],
         "z": [
          1.51
         ]
        },
        {
         "hovertemplate": "<b>%{text}</b><br><br>Gross Income: €%{x:,.0f}<br>Age: %{y}<br>LTI: %{z:.2f}",
         "legendgroup": "Primary earner: 25-35",
         "marker": {
          "color": "#00cc96",
          "size": 12,
          "symbol": "circle"
         },
         "mode": "markers+text",
         "name": "Primary earner: 25-35",
         "scene": "scene",
         "showlegend": true,
         "text": [
          "Primary earner: 25-35"
         ],
         "textposition": "top center",
         "type": "scatter3d",
         "x": [
          34000
         ],
         "y": [
          30
         ],
         "z": [
          2.16
         ]
        },
        {
         "hovertemplate": "<b>%{text}</b><br><br>Gross Income: €%{x:,.0f}<br>Age: %{y}<br>LTI: %{z:.2f}",
         "legendgroup": "Primary earner: 35-45",
         "marker": {
          "color": "#ab63fa",
          "size": 12,
          "symbol": "circle"
         },
         "mode": "markers+text",
         "name": "Primary earner: 35-45",
         "scene": "scene",
         "showlegend": true,
         "text": [
          "Primary earner: 35-45"
         ],
         "textposition": "top center",
         "type": "scatter3d",
         "x": [
          42000
         ],
         "y": [
          40
         ],
         "z": [
          2
         ]
        }
       ],
       "layout": {
        "height": 800,
        "legend": {
         "title": {
          "text": "Age Group"
         },
         "tracegroupgap": 0
        },
        "margin": {
         "b": 0,
         "l": 0,
         "r": 0,
         "t": 40
        },
        "scene": {
         "domain": {
          "x": [
           0,
           1
          ],
          "y": [
           0,
           1
          ]
         },
         "xaxis": {
          "title": {
           "text": "Gross Income (€)"
          }
         },
         "yaxis": {
          "title": {
           "text": "Age"
          }
         },
         "zaxis": {
          "title": {
           "text": "LTI (Mortgage Debt / Income)"
          }
         }
        },
        "template": {
         "data": {
          "bar": [
           {
            "error_x": {
             "color": "#2a3f5f"
            },
            "error_y": {
             "color": "#2a3f5f"
            },
            "marker": {
             "line": {
              "color": "#E5ECF6",
              "width": 0.5
             },
             "pattern": {
              "fillmode": "overlay",
              "size": 10,
              "solidity": 0.2
             }
            },
            "type": "bar"
           }
          ],
          "barpolar": [
           {
            "marker": {
             "line": {
              "color": "#E5ECF6",
              "width": 0.5
             },
             "pattern": {
              "fillmode": "overlay",
              "size": 10,
              "solidity": 0.2
             }
            },
            "type": "barpolar"
           }
          ],
          "carpet": [
           {
            "aaxis": {
             "endlinecolor": "#2a3f5f",
             "gridcolor": "white",
             "linecolor": "white",
             "minorgridcolor": "white",
             "startlinecolor": "#2a3f5f"
            },
            "baxis": {
             "endlinecolor": "#2a3f5f",
             "gridcolor": "white",
             "linecolor": "white",
             "minorgridcolor": "white",
             "startlinecolor": "#2a3f5f"
            },
            "type": "carpet"
           }
          ],
          "choropleth": [
           {
            "colorbar": {
             "outlinewidth": 0,
             "ticks": ""
            },
            "type": "choropleth"
           }
          ],
          "contour": [
           {
            "colorbar": {
             "outlinewidth": 0,
             "ticks": ""
            },
            "colorscale": [
             [
              0,
              "#0d0887"
             ],
             [
              0.1111111111111111,
              "#46039f"
             ],
             [
              0.2222222222222222,
              "#7201a8"
             ],
             [
              0.3333333333333333,
              "#9c179e"
             ],
             [
              0.4444444444444444,
              "#bd3786"
             ],
             [
              0.5555555555555556,
              "#d8576b"
             ],
             [
              0.6666666666666666,
              "#ed7953"
             ],
             [
              0.7777777777777778,
              "#fb9f3a"
             ],
             [
              0.8888888888888888,
              "#fdca26"
             ],
             [
              1,
              "#f0f921"
             ]
            ],
            "type": "contour"
           }
          ],
          "contourcarpet": [
           {
            "colorbar": {
             "outlinewidth": 0,
             "ticks": ""
            },
            "type": "contourcarpet"
           }
          ],
          "heatmap": [
           {
            "colorbar": {
             "outlinewidth": 0,
             "ticks": ""
            },
            "colorscale": [
             [
              0,
              "#0d0887"
             ],
             [
              0.1111111111111111,
              "#46039f"
             ],
             [
              0.2222222222222222,
              "#7201a8"
             ],
             [
              0.3333333333333333,
              "#9c179e"
             ],
             [
              0.4444444444444444,
              "#bd3786"
             ],
             [
              0.5555555555555556,
              "#d8576b"
             ],
             [
              0.6666666666666666,
              "#ed7953"
             ],
             [
              0.7777777777777778,
              "#fb9f3a"
             ],
             [
              0.8888888888888888,
              "#fdca26"
             ],
             [
              1,
              "#f0f921"
             ]
            ],
            "type": "heatmap"
           }
          ],
          "heatmapgl": [
           {
            "colorbar": {
             "outlinewidth": 0,
             "ticks": ""
            },
            "colorscale": [
             [
              0,
              "#0d0887"
             ],
             [
              0.1111111111111111,
              "#46039f"
             ],
             [
              0.2222222222222222,
              "#7201a8"
             ],
             [
              0.3333333333333333,
              "#9c179e"
             ],
             [
              0.4444444444444444,
              "#bd3786"
             ],
             [
              0.5555555555555556,
              "#d8576b"
             ],
             [
              0.6666666666666666,
              "#ed7953"
             ],
             [
              0.7777777777777778,
              "#fb9f3a"
             ],
             [
              0.8888888888888888,
              "#fdca26"
             ],
             [
              1,
              "#f0f921"
             ]
            ],
            "type": "heatmapgl"
           }
          ],
          "histogram": [
           {
            "marker": {
             "pattern": {
              "fillmode": "overlay",
              "size": 10,
              "solidity": 0.2
             }
            },
            "type": "histogram"
           }
          ],
          "histogram2d": [
           {
            "colorbar": {
             "outlinewidth": 0,
             "ticks": ""
            },
            "colorscale": [
             [
              0,
              "#0d0887"
             ],
             [
              0.1111111111111111,
              "#46039f"
             ],
             [
              0.2222222222222222,
              "#7201a8"
             ],
             [
              0.3333333333333333,
              "#9c179e"
             ],
             [
              0.4444444444444444,
              "#bd3786"
             ],
             [
              0.5555555555555556,
              "#d8576b"
             ],
             [
              0.6666666666666666,
              "#ed7953"
             ],
             [
              0.7777777777777778,
              "#fb9f3a"
             ],
             [
              0.8888888888888888,
              "#fdca26"
             ],
             [
              1,
              "#f0f921"
             ]
            ],
            "type": "histogram2d"
           }
          ],
          "histogram2dcontour": [
           {
            "colorbar": {
             "outlinewidth": 0,
             "ticks": ""
            },
            "colorscale": [
             [
              0,
              "#0d0887"
             ],
             [
              0.1111111111111111,
              "#46039f"
             ],
             [
              0.2222222222222222,
              "#7201a8"
             ],
             [
              0.3333333333333333,
              "#9c179e"
             ],
             [
              0.4444444444444444,
              "#bd3786"
             ],
             [
              0.5555555555555556,
              "#d8576b"
             ],
             [
              0.6666666666666666,
              "#ed7953"
             ],
             [
              0.7777777777777778,
              "#fb9f3a"
             ],
             [
              0.8888888888888888,
              "#fdca26"
             ],
             [
              1,
              "#f0f921"
             ]
            ],
            "type": "histogram2dcontour"
           }
          ],
          "mesh3d": [
           {
            "colorbar": {
             "outlinewidth": 0,
             "ticks": ""
            },
            "type": "mesh3d"
           }
          ],
          "parcoords": [
           {
            "line": {
             "colorbar": {
              "outlinewidth": 0,
              "ticks": ""
             }
            },
            "type": "parcoords"
           }
          ],
          "pie": [
           {
            "automargin": true,
            "type": "pie"
           }
          ],
          "scatter": [
           {
            "fillpattern": {
             "fillmode": "overlay",
             "size": 10,
             "solidity": 0.2
            },
            "type": "scatter"
           }
          ],
          "scatter3d": [
           {
            "line": {
             "colorbar": {
              "outlinewidth": 0,
              "ticks": ""
             }
            },
            "marker": {
             "colorbar": {
              "outlinewidth": 0,
              "ticks": ""
             }
            },
            "type": "scatter3d"
           }
          ],
          "scattercarpet": [
           {
            "marker": {
             "colorbar": {
              "outlinewidth": 0,
              "ticks": ""
             }
            },
            "type": "scattercarpet"
           }
          ],
          "scattergeo": [
           {
            "marker": {
             "colorbar": {
              "outlinewidth": 0,
              "ticks": ""
             }
            },
            "type": "scattergeo"
           }
          ],
          "scattergl": [
           {
            "marker": {
             "colorbar": {
              "outlinewidth": 0,
              "ticks": ""
             }
            },
            "type": "scattergl"
           }
          ],
          "scattermapbox": [
           {
            "marker": {
             "colorbar": {
              "outlinewidth": 0,
              "ticks": ""
             }
            },
            "type": "scattermapbox"
           }
          ],
          "scatterpolar": [
           {
            "marker": {
             "colorbar": {
              "outlinewidth": 0,
              "ticks": ""
             }
            },
            "type": "scatterpolar"
           }
          ],
          "scatterpolargl": [
           {
            "marker": {
             "colorbar": {
              "outlinewidth": 0,
              "ticks": ""
             }
            },
            "type": "scatterpolargl"
           }
          ],
          "scatterternary": [
           {
            "marker": {
             "colorbar": {
              "outlinewidth": 0,
              "ticks": ""
             }
            },
            "type": "scatterternary"
           }
          ],
          "surface": [
           {
            "colorbar": {
             "outlinewidth": 0,
             "ticks": ""
            },
            "colorscale": [
             [
              0,
              "#0d0887"
             ],
             [
              0.1111111111111111,
              "#46039f"
             ],
             [
              0.2222222222222222,
              "#7201a8"
             ],
             [
              0.3333333333333333,
              "#9c179e"
             ],
             [
              0.4444444444444444,
              "#bd3786"
             ],
             [
              0.5555555555555556,
              "#d8576b"
             ],
             [
              0.6666666666666666,
              "#ed7953"
             ],
             [
              0.7777777777777778,
              "#fb9f3a"
             ],
             [
              0.8888888888888888,
              "#fdca26"
             ],
             [
              1,
              "#f0f921"
             ]
            ],
            "type": "surface"
           }
          ],
          "table": [
           {
            "cells": {
             "fill": {
              "color": "#EBF0F8"
             },
             "line": {
              "color": "white"
             }
            },
            "header": {
             "fill": {
              "color": "#C8D4E3"
             },
             "line": {
              "color": "white"
             }
            },
            "type": "table"
           }
          ]
         },
         "layout": {
          "annotationdefaults": {
           "arrowcolor": "#2a3f5f",
           "arrowhead": 0,
           "arrowwidth": 1
          },
          "autotypenumbers": "strict",
          "coloraxis": {
           "colorbar": {
            "outlinewidth": 0,
            "ticks": ""
           }
          },
          "colorscale": {
           "diverging": [
            [
             0,
             "#8e0152"
            ],
            [
             0.1,
             "#c51b7d"
            ],
            [
             0.2,
             "#de77ae"
            ],
            [
             0.3,
             "#f1b6da"
            ],
            [
             0.4,
             "#fde0ef"
            ],
            [
             0.5,
             "#f7f7f7"
            ],
            [
             0.6,
             "#e6f5d0"
            ],
            [
             0.7,
             "#b8e186"
            ],
            [
             0.8,
             "#7fbc41"
            ],
            [
             0.9,
             "#4d9221"
            ],
            [
             1,
             "#276419"
            ]
           ],
           "sequential": [
            [
             0,
             "#0d0887"
            ],
            [
             0.1111111111111111,
             "#46039f"
            ],
            [
             0.2222222222222222,
             "#7201a8"
            ],
            [
             0.3333333333333333,
             "#9c179e"
            ],
            [
             0.4444444444444444,
             "#bd3786"
            ],
            [
             0.5555555555555556,
             "#d8576b"
            ],
            [
             0.6666666666666666,
             "#ed7953"
            ],
            [
             0.7777777777777778,
             "#fb9f3a"
            ],
            [
             0.8888888888888888,
             "#fdca26"
            ],
            [
             1,
             "#f0f921"
            ]
           ],
           "sequentialminus": [
            [
             0,
             "#0d0887"
            ],
            [
             0.1111111111111111,
             "#46039f"
            ],
            [
             0.2222222222222222,
             "#7201a8"
            ],
            [
             0.3333333333333333,
             "#9c179e"
            ],
            [
             0.4444444444444444,
             "#bd3786"
            ],
            [
             0.5555555555555556,
             "#d8576b"
            ],
            [
             0.6666666666666666,
             "#ed7953"
            ],
            [
             0.7777777777777778,
             "#fb9f3a"
            ],
            [
             0.8888888888888888,
             "#fdca26"
            ],
            [
             1,
             "#f0f921"
            ]
           ]
          },
          "colorway": [
           "#636efa",
           "#EF553B",
           "#00cc96",
           "#ab63fa",
           "#FFA15A",
           "#19d3f3",
           "#FF6692",
           "#B6E880",
           "#FF97FF",
           "#FECB52"
          ],
          "font": {
           "color": "#2a3f5f"
          },
          "geo": {
           "bgcolor": "white",
           "lakecolor": "white",
           "landcolor": "#E5ECF6",
           "showlakes": true,
           "showland": true,
           "subunitcolor": "white"
          },
          "hoverlabel": {
           "align": "left"
          },
          "hovermode": "closest",
          "mapbox": {
           "style": "light"
          },
          "paper_bgcolor": "white",
          "plot_bgcolor": "#E5ECF6",
          "polar": {
           "angularaxis": {
            "gridcolor": "white",
            "linecolor": "white",
            "ticks": ""
           },
           "bgcolor": "#E5ECF6",
           "radialaxis": {
            "gridcolor": "white",
            "linecolor": "white",
            "ticks": ""
           }
          },
          "scene": {
           "xaxis": {
            "backgroundcolor": "#E5ECF6",
            "gridcolor": "white",
            "gridwidth": 2,
            "linecolor": "white",
            "showbackground": true,
            "ticks": "",
            "zerolinecolor": "white"
           },
           "yaxis": {
            "backgroundcolor": "#E5ECF6",
            "gridcolor": "white",
            "gridwidth": 2,
            "linecolor": "white",
            "showbackground": true,
            "ticks": "",
            "zerolinecolor": "white"
           },
           "zaxis": {
            "backgroundcolor": "#E5ECF6",
            "gridcolor": "white",
            "gridwidth": 2,
            "linecolor": "white",
            "showbackground": true,
            "ticks": "",
            "zerolinecolor": "white"
           }
          },
          "shapedefaults": {
           "line": {
            "color": "#2a3f5f"
           }
          },
          "ternary": {
           "aaxis": {
            "gridcolor": "white",
            "linecolor": "white",
            "ticks": ""
           },
           "baxis": {
            "gridcolor": "white",
            "linecolor": "white",
            "ticks": ""
           },
           "bgcolor": "#E5ECF6",
           "caxis": {
            "gridcolor": "white",
            "linecolor": "white",
            "ticks": ""
           }
          },
          "title": {
           "x": 0.05
          },
          "xaxis": {
           "automargin": true,
           "gridcolor": "white",
           "linecolor": "white",
           "ticks": "",
           "title": {
            "standoff": 15
           },
           "zerolinecolor": "white",
           "zerolinewidth": 2
          },
          "yaxis": {
           "automargin": true,
           "gridcolor": "white",
           "linecolor": "white",
           "ticks": "",
           "title": {
            "standoff": 15
           },
           "zerolinecolor": "white",
           "zerolinewidth": 2
          }
         }
        },
        "title": {
         "text": "3D Visualization of Gross Income, Age and Loan-to-Income (LTI) Ratio"
        },
        "width": 1000
       }
      }
     },
     "metadata": {},
     "output_type": "display_data"
    }
   ],
   "source": [
    "import plotly.express as px\n",
    "import pandas as pd\n",
    "\n",
    "lti_merged = pd.read_csv('Inkomen_LTI_Gecombineerd.csv')\n",
    "\n",
    "age_group_translation = {\n",
    "    'Hoofdkostwinner: tot 25 jaar': 'Primary earner: under 25',\n",
    "    'Hoofdkostwinner: 25 tot 35 jaar': 'Primary earner: 25-35',\n",
    "    'Hoofdkostwinner: 35 tot 45 jaar': 'Primary earner: 35-45',\n",
    "    'Hoofdkostwinner: 45 tot 65 jaar': 'Primary earner: 45-65'\n",
    "}\n",
    "\n",
    "viz_data = lti_merged.copy()\n",
    "viz_data['Age Group EN'] = viz_data['Leeftijdsgroep'].map(age_group_translation)\n",
    "\n",
    "fig = px.scatter_3d(\n",
    "    viz_data,\n",
    "    x='Bruto Inkomen',\n",
    "    y='Leeftijd',\n",
    "    z='LTI',\n",
    "    color='Age Group EN',\n",
    "    text='Age Group EN',\n",
    "    size_max=30,\n",
    "    title='3D Visualization of Gross Income, Age and Loan-to-Income (LTI) Ratio',\n",
    "    labels={\n",
    "        'Bruto Inkomen': 'Gross Income (€)',\n",
    "        'Leeftijd': 'Age',\n",
    "        'LTI': 'LTI (Mortgage Debt / Income)',\n",
    "        'Age Group EN': 'Age Group'\n",
    "    }\n",
    ")\n",
    "\n",
    "fig.update_traces(\n",
    "    marker=dict(size=12),\n",
    "    textposition='top center',\n",
    "    hovertemplate=(\n",
    "        \"<b>%{text}</b><br><br>\"\n",
    "        \"Gross Income: €%{x:,.0f}<br>\"\n",
    "        \"Age: %{y}<br>\"\n",
    "        \"LTI: %{z:.2f}\"\n",
    "    )\n",
    ")\n",
    "\n",
    "fig.update_layout(\n",
    "    scene=dict(\n",
    "        xaxis_title='Gross Income (€)',\n",
    "        yaxis_title='Age',\n",
    "        zaxis_title='LTI (Mortgage Debt / Income)'\n",
    "    ),\n",
    "    height=800,\n",
    "    width=1000,\n",
    "    margin=dict(l=0, r=0, b=0, t=40)\n",
    ")\n",
    "\n",
    "fig.show()"
   ]
  },
  {
   "cell_type": "markdown",
   "metadata": {},
   "source": [
    "### 📊 Argument 1.3: In specific provinces, the gap between income and house price widens quicker than in others.\n",
    "This plot shows the growth of house prices compared to the growth of income per region. Different regions are displayed in different colors, showing not only the difference between income and house prices, but also the difference between regions. This shows that the house market might be worse depending on the region you live in.\n",
    "\n",
    "**Top Map (House Price-to-Income Ratio by Region):**\n",
    "- **Color coding**: The map uses a gradient from green to red to indicate the ratio of average house prices to average incomes per region.\n",
    "\n",
    "**Bottom Line Graph (House Price vs. Income Growth in Noord-Holland):**\n",
    "- **X-axis:** Year (2011 to 2023)\n",
    "- **Y-axis:** Percentage growth compared to 2011\n",
    "\n",
    "From 2011 to 2023, house prices most provinces grew significantly faster than incomes, widening even more from 2017. Central regions seem to suffer more from the growing house prices compared to southern and northern regions, suggesting reduced housing affordabillity. This imbalance has far-reaching consequences. It affects people’s ability to buy a home near their work, pushes younger generations to move away from their hometowns, and deepens the divide between economically stronger and weaker areas. Monitoring and addressing this widening gap is of importance for creating a more balanced housing market across the country."
   ]
  },
  {
   "cell_type": "code",
   "execution_count": 3,
   "metadata": {
    "tags": [
     "{     \"tags\": [         \"hide-input\",     ] }"
    ]
   },
   "outputs": [
    {
     "name": "stderr",
     "output_type": "stream",
     "text": [
      "C:\\Users\\Mark\\AppData\\Local\\Temp\\ipykernel_13116\\2660488042.py:9: FutureWarning:\n",
      "\n",
      "DataFrame.applymap has been deprecated. Use DataFrame.map instead.\n",
      "\n"
     ]
    },
    {
     "data": {
      "application/vnd.jupyter.widget-view+json": {
       "model_id": "b535ade9b40249f5abad7e76ed765c55",
       "version_major": 2,
       "version_minor": 0
      },
      "text/plain": [
       "VBox(children=(FigureWidget({\n",
       "    'data': [{'coloraxis': 'coloraxis',\n",
       "              'customdata': array([[73.6…"
      ]
     },
     "execution_count": 3,
     "metadata": {},
     "output_type": "execute_result"
    }
   ],
   "source": [
    "import pandas as pd\n",
    "import numpy as np\n",
    "import plotly.graph_objects as go\n",
    "import plotly.express as px\n",
    "import json\n",
    "from ipywidgets import VBox\n",
    "woningprijzen = pd.read_csv('gemkoopsom.csv')\n",
    "inkomens = pd.read_csv('geminkomen.csv')\n",
    "inkomens = inkomens.applymap(lambda x: float(x.replace(',', '.')) if isinstance(x, str) and ',' in x else x)\n",
    "\n",
    "woningprijzen['Provincie'] = woningprijzen[\"Regio's\"].str.replace(' (PV)', '', regex=False)\n",
    "inkomens['Provincie'] = inkomens[\"Regio's\"].str.replace(' (PV)', '', regex=False)\n",
    "\n",
    "with open('the-netherlands.geojson') as f:\n",
    "    nl_geojson = json.load(f)\n",
    "\n",
    "def calculate_growth(df, start_year, end_year):\n",
    "    df = df.copy()\n",
    "    df['Growth (%)'] = ((df[str(end_year)] - df[str(start_year)]) / df[str(start_year)]) * 100\n",
    "    return df[['Regio\\'s', 'Growth (%)']]\n",
    "\n",
    "woning_groei = calculate_growth(woningprijzen, 2011, 2023)\n",
    "inkomen_groei = calculate_growth(inkomens, 2011, 2023)\n",
    "\n",
    "merged_data = pd.merge(\n",
    "    woning_groei.rename(columns={'Growth (%)': 'House_price_growth'}),\n",
    "    inkomen_groei.rename(columns={'Growth (%)': 'Income_growth'}),\n",
    "    on='Regio\\'s'\n",
    ")\n",
    "merged_data['Provincie'] = merged_data['Regio\\'s'].str.replace(' (PV)', '', regex=False)\n",
    "merged_data['Ratio'] = merged_data['House_price_growth'] / merged_data['Income_growth']\n",
    "\n",
    "line_fig = go.FigureWidget()\n",
    "line_fig.update_layout(\n",
    "    title=\"Click on a province to see details\",\n",
    "    xaxis_title=\"Year\",\n",
    "    yaxis_title=\"Euro\",\n",
    "    template=\"plotly_white\",\n",
    "    width=1200,\n",
    "    height=500\n",
    ")\n",
    "\n",
    "choropleth = go.FigureWidget(\n",
    "    px.choropleth(\n",
    "        merged_data,\n",
    "        geojson=nl_geojson,\n",
    "        locations='Provincie',\n",
    "        featureidkey='properties.name',\n",
    "        color='Ratio',\n",
    "        hover_name='Provincie',\n",
    "        hover_data={\n",
    "            'House_price_growth': ':.1f%',\n",
    "            'Income_growth': ':.1f%',\n",
    "            'Ratio': ':.2f',\n",
    "            'Provincie': False\n",
    "        },\n",
    "        color_continuous_scale='RdYlGn_r',\n",
    "        range_color=(1, 2),\n",
    "        labels={'Ratio': 'Ratio<br>(House Price/Income)'},\n",
    "        height=600,\n",
    "        width=1300\n",
    "    )\n",
    ")\n",
    "\n",
    "\n",
    "choropleth.update_geos(fitbounds=\"locations\", visible=False)\n",
    "choropleth.update_layout(margin={\"r\":0,\"t\":30,\"l\":0,\"b\":0}, title=\"House Price Growth vs. Income Growth Ratio\")\n",
    "\n",
    "def update_line(trace, points, selector):\n",
    "    if points.point_inds:\n",
    "        provincie = merged_data.iloc[points.point_inds[0]]['Provincie']\n",
    "        jaren = [str(y) for y in range(2011, 2024)]\n",
    "\n",
    "        prijzen = woningprijzen[woningprijzen['Provincie'] == provincie][jaren].values.flatten()\n",
    "        inkomens_ = inkomens[inkomens['Provincie'] == provincie][jaren].values.flatten()\n",
    "\n",
    "        prijzen_groei = ((prijzen - prijzen[0]) / prijzen[0]) * 100\n",
    "        inkomens_groei = ((inkomens_ - inkomens_[0]) / inkomens_[0]) * 100\n",
    "\n",
    "        line_fig.data = []\n",
    "        line_fig.add_trace(go.Scatter(x=jaren, y=prijzen_groei, mode='lines+markers', name='House price growth (%)'))\n",
    "        line_fig.add_trace(go.Scatter(x=jaren, y=inkomens_groei, mode='lines+markers', name='Income growth (%)'))\n",
    "\n",
    "        line_fig.update_layout(\n",
    "            title=f'Percentage growth of house prices and income in {provincie} (compared to 2011)',\n",
    "            yaxis_title='Growth compared to 2011 (%)',\n",
    "            xaxis_title='Year',\n",
    "            yaxis=dict(range=[-20, 110]),\n",
    "            template='plotly_white',\n",
    "            width=1200,\n",
    "            height=500\n",
    ")\n",
    "\n",
    "choropleth.data[0].on_click(update_line)\n",
    "\n",
    "VBox([choropleth, line_fig])"
   ]
  },
  {
   "cell_type": "markdown",
   "metadata": {},
   "source": [
    "### Summary of the first perspective\n",
    "\n",
    "As shown in the arguments, it is made clear that income does not yet match the growth of house prices in any way. While the growth of income in recent year has been growing gradually, it is clear that the house prices have been growing way more sharply the recent years. Besides the average income already not matching the house prices, it is also made clear that starters have a relatively harder time entering the house market, since they have to spend a larger portion of their income on mortgage payments. The ratio between house price and income per region also differs a lot, which has even more negative effects such as a stronger division between economically weak and strong regions.  "
   ]
  },
  {
   "cell_type": "markdown",
   "metadata": {},
   "source": [
    "### 📊 Argument 2.1: Low Interest Rates Softened the Impact of Rising House Prices\n",
    "This graph offers important context that challenges overly negative views of the housing market. It shows the monthly mortgage payments for home loans issued at each point in time, calculated using the average home price and the corresponding interest rate for different fixed-rate mortgages. \n",
    "\n",
    "- **X-axis:** Date (from 2017 to 2025)\n",
    "- **Left Y-axis (gray line):** Average house value (€)\n",
    "- **Right Y-axis (blue line):** Corresponding monthly mortgage costs (€) for a fixed interest rate (5–10 years)\n",
    "\n",
    "This figure underscores a broader point: the housing market's apparent unaffordability is not just about prices. It also depends on financial conditions, policy choices, and product types—like the mortgage structure. In many cases, households were still able to buy homes thanks to favorable financing terms. So while recent cost increases are certainly real, they follow an extended period of relatively affordable borrowing—suggesting the market may not be as dysfunctional as headlines imply."
   ]
  },
  {
   "cell_type": "code",
   "execution_count": null,
   "metadata": {},
   "outputs": [
    {
     "name": "stderr",
     "output_type": "stream",
     "text": [
      "C:\\Users\\Mark\\AppData\\Local\\Temp\\ipykernel_13116\\3993582333.py:19: UserWarning:\n",
      "\n",
      "Could not infer format, so each element will be parsed individually, falling back to `dateutil`. To ensure parsing is consistent and as-expected, please specify a format.\n",
      "\n"
     ]
    },
    {
     "data": {
      "application/vnd.jupyter.widget-view+json": {
       "model_id": "2fa334bdaafa4a9c8e1af1914116d331",
       "version_major": 2,
       "version_minor": 0
      },
      "text/plain": [
       "interactive(children=(Dropdown(description='Rentevastperiode:', index=2, options=('Variabel <=1j (%)', '1-5j (…"
      ]
     },
     "metadata": {},
     "output_type": "display_data"
    },
    {
     "data": {
      "text/plain": [
       "<function __main__.plot_met_rente(rente_col)>"
      ]
     },
     "execution_count": 13,
     "metadata": {},
     "output_type": "execute_result"
    }
   ],
   "source": [
    "import pandas as pd, numpy as np, matplotlib.pyplot as plt\n",
    "from ipywidgets import interact, Dropdown\n",
    "\n",
    "import warnings\n",
    "warnings.filterwarnings(\n",
    "    'ignore',\n",
    "    message='Could not infer format, so each element will be parsed individually*'\n",
    ")\n",
    "\n",
    "df_rente['Datum'] = pd.to_datetime(df_rente['Datum'], errors='coerce')\n",
    "\n",
    "# ---------------- inlezen ----------------\n",
    "df_woning = pd.read_csv('schoon_woningdata.csv', parse_dates=['Datum'])\n",
    "df_rente  = pd.read_csv('(16-06-25)_Bancaire_rente_op_zuiver_nieuw_afgesloten_woninghypotheken_huishoudens.csv')\n",
    "\n",
    "# kolommen hernoemen – let op: linker-kant is 1-op-1 de lijst die je net printte\n",
    "df_rente = df_rente.rename(columns={\n",
    "    'Unnamed: 0':                'Datum',\n",
    "    'Variabel en <= 1 years':    'Variabel <=1j (%)',\n",
    "    '> 1 years en <= 5 years':   '1-5j (%)',\n",
    "    '> 5 years en <= 10 years':  '5-10j (%)',\n",
    "    '> 10 years':                '>10j (%)'\n",
    "})\n",
    "\n",
    "# datum & komma-decimalen opruimen\n",
    "rentecols = ['Variabel <=1j (%)','1-5j (%)','5-10j (%)','>10j (%)']\n",
    "df_rente['Datum'] = pd.to_datetime(df_rente['Datum'], errors='coerce')\n",
    "for c in rentecols:\n",
    "    df_rente[c] = (\n",
    "        df_rente[c].astype(str).str.replace(',', '.', regex=False).astype(float)\n",
    "    )\n",
    "\n",
    "df_woning['Datum'] = pd.to_datetime(df_woning['Datum'], errors='coerce')\n",
    "df        = (pd.merge(df_woning, df_rente, on='Datum', how='inner')\n",
    "              .sort_values('Datum'))\n",
    "\n",
    "# ---------------- plotfunctie ----------------\n",
    "def plot_met_rente(rente_col):\n",
    "    looptijd = 30 * 12                                  # 30 jaar, in maanden\n",
    "    maandlast = (\n",
    "        df['Waarde'] * (df[rente_col]/100/12) /\n",
    "        (1 - (1 + df[rente_col]/100/12) ** -looptijd)\n",
    "    )\n",
    "\n",
    "    fig, ax1 = plt.subplots(figsize=(11,6))\n",
    "    ax1.plot(df['Datum'], df['Waarde'], color='gray', lw=2, label='Woningwaarde')\n",
    "    ax1.set_ylabel('Woningwaarde (€)', color='gray'); ax1.tick_params(axis='y', labelcolor='gray')\n",
    "    ax1.set_ylim(bottom=0)\n",
    "\n",
    "    ax2 = ax1.twinx()\n",
    "    ax2.plot(df['Datum'], maandlast, color='tab:blue', lw=2, label='Maandlast')\n",
    "    ax2.set_ylabel('Maandlast (€)',  color='tab:blue'); ax2.tick_params(axis='y', labelcolor='tab:blue')\n",
    "    ax2.set_ylim(bottom=0)\n",
    "    ax1.set_xlabel('Datum')\n",
    "    plt.title(f'Woningwaarde vs. maandlast – rentevast: {rente_col}')\n",
    "    plt.grid(True); fig.tight_layout(); plt.show()\n",
    "\n",
    "# ---------------- interactieve widget ----------------\n",
    "interact(\n",
    "    plot_met_rente,\n",
    "    rente_col=Dropdown(\n",
    "        options=rentecols,\n",
    "        value='5-10j (%)',\n",
    "        description='Rentevastperiode:'\n",
    "    )\n",
    ")\n"
   ]
  },
  {
   "cell_type": "code",
   "execution_count": 9,
   "metadata": {},
   "outputs": [
    {
     "name": "stdout",
     "output_type": "stream",
     "text": [
      "['Unnamed: 0', 'Totaal', 'Variabel en <= 1 years', '> 1 years en <= 5 years', '> 5 years en <= 10 years', '> 10 years']\n"
     ]
    }
   ],
   "source": [
    "df_rente = pd.read_csv(\n",
    "    '(16-06-25)_Bancaire_rente_op_zuiver_nieuw_afgesloten_woninghypotheken_huishoudens.csv'\n",
    ")\n",
    "print(df_rente.columns.tolist())"
   ]
  },
  {
   "cell_type": "markdown",
   "metadata": {},
   "source": [
    "### 📊 Argument 2.2: Alternative housing options provide local relief\n",
    "As noted earlier, there might also be a rise of alternative housing options. This could, for example, be tiny houses or other non-usual housing options. We might be in the early stages of a exponential growth of these alternative housing options, as shown in the chart below. These houses are classified as “unknow singe family home”.  \n",
    "\n",
    "**Years Displayed:** 2021, 2022, 2023, 2024\n",
    "\n",
    "**Observations:**\n",
    "- The ‘Unknown single-family home’ category, while still representing a very small portion of the housing market (less than 0.1%), shows the most pronounced relative growth over the period:\n",
    "   - From 0.051% in 2021 to 0.0726% in 2024 — an increase of over 40% in relative share.\n",
    "- In contrast, the shares of other housing types remained virtually unchanged over the same period:\n",
    "   - Terraced houses held steady at ~46%.\n",
    "   - Detached, corner, and semi-detached houses maintained consistent distributions (~20.3%, ~19.9%, and ~13.7%, respectively).\n",
    "\n",
    "This figure highlights a subtle but meaningful shift in housing data classification. While the market’s structural composition appears stable, the growth in the “Unknown single-family home” category may signal Or the emergence of new or hybrid housing forms not easily tracked in existing models. Even small changes like this can reflect underlying shifts in how housing is developed, reported, or lived in—reminding us that evolving data categories can be early indicators of broader market."
   ]
  },
  {
   "cell_type": "code",
   "execution_count": 4,
   "metadata": {},
   "outputs": [
    {
     "data": {
      "application/vnd.plotly.v1+json": {
       "config": {
        "plotlyServerURL": "https://plot.ly"
       },
       "data": [
        {
         "domain": {
          "x": [
           0,
           0.45
          ],
          "y": [
           0.625,
           1
          ]
         },
         "labels": [
          "Unknown single-family home",
          "corner house",
          "detached house",
          "semi-detached house",
          "terraced house"
         ],
         "name": "2021",
         "type": "pie",
         "values": [
          2597,
          1012593,
          1035389,
          698022,
          2347198
         ]
        },
        {
         "domain": {
          "x": [
           0.55,
           1
          ],
          "y": [
           0.625,
           1
          ]
         },
         "labels": [
          "Unknown single-family home",
          "corner house",
          "detached house",
          "semi-detached house",
          "terraced house"
         ],
         "name": "2022",
         "type": "pie",
         "values": [
          2836,
          1018885,
          1042650,
          704055,
          2361261
         ]
        },
        {
         "domain": {
          "x": [
           0,
           0.45
          ],
          "y": [
           0,
           0.375
          ]
         },
         "labels": [
          "Unknown single-family home",
          "corner house",
          "detached house",
          "semi-detached house",
          "terraced house"
         ],
         "name": "2023",
         "type": "pie",
         "values": [
          3350,
          1024770,
          1048853,
          707902,
          2374914
         ]
        },
        {
         "domain": {
          "x": [
           0.55,
           1
          ],
          "y": [
           0,
           0.375
          ]
         },
         "labels": [
          "Unknown single-family home",
          "corner house",
          "detached house",
          "semi-detached house",
          "terraced house"
         ],
         "name": "2024",
         "type": "pie",
         "values": [
          3768,
          1030287,
          1055194,
          711792,
          2388465
         ]
        }
       ],
       "layout": {
        "annotations": [
         {
          "font": {
           "size": 16
          },
          "showarrow": false,
          "text": "2021",
          "x": 0.225,
          "xanchor": "center",
          "xref": "paper",
          "y": 1,
          "yanchor": "bottom",
          "yref": "paper"
         },
         {
          "font": {
           "size": 16
          },
          "showarrow": false,
          "text": "2022",
          "x": 0.775,
          "xanchor": "center",
          "xref": "paper",
          "y": 1,
          "yanchor": "bottom",
          "yref": "paper"
         },
         {
          "font": {
           "size": 16
          },
          "showarrow": false,
          "text": "2023",
          "x": 0.225,
          "xanchor": "center",
          "xref": "paper",
          "y": 0.375,
          "yanchor": "bottom",
          "yref": "paper"
         },
         {
          "font": {
           "size": 16
          },
          "showarrow": false,
          "text": "2024",
          "x": 0.775,
          "xanchor": "center",
          "xref": "paper",
          "y": 0.375,
          "yanchor": "bottom",
          "yref": "paper"
         }
        ],
        "height": 700,
        "showlegend": true,
        "template": {
         "data": {
          "bar": [
           {
            "error_x": {
             "color": "#2a3f5f"
            },
            "error_y": {
             "color": "#2a3f5f"
            },
            "marker": {
             "line": {
              "color": "#E5ECF6",
              "width": 0.5
             },
             "pattern": {
              "fillmode": "overlay",
              "size": 10,
              "solidity": 0.2
             }
            },
            "type": "bar"
           }
          ],
          "barpolar": [
           {
            "marker": {
             "line": {
              "color": "#E5ECF6",
              "width": 0.5
             },
             "pattern": {
              "fillmode": "overlay",
              "size": 10,
              "solidity": 0.2
             }
            },
            "type": "barpolar"
           }
          ],
          "carpet": [
           {
            "aaxis": {
             "endlinecolor": "#2a3f5f",
             "gridcolor": "white",
             "linecolor": "white",
             "minorgridcolor": "white",
             "startlinecolor": "#2a3f5f"
            },
            "baxis": {
             "endlinecolor": "#2a3f5f",
             "gridcolor": "white",
             "linecolor": "white",
             "minorgridcolor": "white",
             "startlinecolor": "#2a3f5f"
            },
            "type": "carpet"
           }
          ],
          "choropleth": [
           {
            "colorbar": {
             "outlinewidth": 0,
             "ticks": ""
            },
            "type": "choropleth"
           }
          ],
          "contour": [
           {
            "colorbar": {
             "outlinewidth": 0,
             "ticks": ""
            },
            "colorscale": [
             [
              0,
              "#0d0887"
             ],
             [
              0.1111111111111111,
              "#46039f"
             ],
             [
              0.2222222222222222,
              "#7201a8"
             ],
             [
              0.3333333333333333,
              "#9c179e"
             ],
             [
              0.4444444444444444,
              "#bd3786"
             ],
             [
              0.5555555555555556,
              "#d8576b"
             ],
             [
              0.6666666666666666,
              "#ed7953"
             ],
             [
              0.7777777777777778,
              "#fb9f3a"
             ],
             [
              0.8888888888888888,
              "#fdca26"
             ],
             [
              1,
              "#f0f921"
             ]
            ],
            "type": "contour"
           }
          ],
          "contourcarpet": [
           {
            "colorbar": {
             "outlinewidth": 0,
             "ticks": ""
            },
            "type": "contourcarpet"
           }
          ],
          "heatmap": [
           {
            "colorbar": {
             "outlinewidth": 0,
             "ticks": ""
            },
            "colorscale": [
             [
              0,
              "#0d0887"
             ],
             [
              0.1111111111111111,
              "#46039f"
             ],
             [
              0.2222222222222222,
              "#7201a8"
             ],
             [
              0.3333333333333333,
              "#9c179e"
             ],
             [
              0.4444444444444444,
              "#bd3786"
             ],
             [
              0.5555555555555556,
              "#d8576b"
             ],
             [
              0.6666666666666666,
              "#ed7953"
             ],
             [
              0.7777777777777778,
              "#fb9f3a"
             ],
             [
              0.8888888888888888,
              "#fdca26"
             ],
             [
              1,
              "#f0f921"
             ]
            ],
            "type": "heatmap"
           }
          ],
          "heatmapgl": [
           {
            "colorbar": {
             "outlinewidth": 0,
             "ticks": ""
            },
            "colorscale": [
             [
              0,
              "#0d0887"
             ],
             [
              0.1111111111111111,
              "#46039f"
             ],
             [
              0.2222222222222222,
              "#7201a8"
             ],
             [
              0.3333333333333333,
              "#9c179e"
             ],
             [
              0.4444444444444444,
              "#bd3786"
             ],
             [
              0.5555555555555556,
              "#d8576b"
             ],
             [
              0.6666666666666666,
              "#ed7953"
             ],
             [
              0.7777777777777778,
              "#fb9f3a"
             ],
             [
              0.8888888888888888,
              "#fdca26"
             ],
             [
              1,
              "#f0f921"
             ]
            ],
            "type": "heatmapgl"
           }
          ],
          "histogram": [
           {
            "marker": {
             "pattern": {
              "fillmode": "overlay",
              "size": 10,
              "solidity": 0.2
             }
            },
            "type": "histogram"
           }
          ],
          "histogram2d": [
           {
            "colorbar": {
             "outlinewidth": 0,
             "ticks": ""
            },
            "colorscale": [
             [
              0,
              "#0d0887"
             ],
             [
              0.1111111111111111,
              "#46039f"
             ],
             [
              0.2222222222222222,
              "#7201a8"
             ],
             [
              0.3333333333333333,
              "#9c179e"
             ],
             [
              0.4444444444444444,
              "#bd3786"
             ],
             [
              0.5555555555555556,
              "#d8576b"
             ],
             [
              0.6666666666666666,
              "#ed7953"
             ],
             [
              0.7777777777777778,
              "#fb9f3a"
             ],
             [
              0.8888888888888888,
              "#fdca26"
             ],
             [
              1,
              "#f0f921"
             ]
            ],
            "type": "histogram2d"
           }
          ],
          "histogram2dcontour": [
           {
            "colorbar": {
             "outlinewidth": 0,
             "ticks": ""
            },
            "colorscale": [
             [
              0,
              "#0d0887"
             ],
             [
              0.1111111111111111,
              "#46039f"
             ],
             [
              0.2222222222222222,
              "#7201a8"
             ],
             [
              0.3333333333333333,
              "#9c179e"
             ],
             [
              0.4444444444444444,
              "#bd3786"
             ],
             [
              0.5555555555555556,
              "#d8576b"
             ],
             [
              0.6666666666666666,
              "#ed7953"
             ],
             [
              0.7777777777777778,
              "#fb9f3a"
             ],
             [
              0.8888888888888888,
              "#fdca26"
             ],
             [
              1,
              "#f0f921"
             ]
            ],
            "type": "histogram2dcontour"
           }
          ],
          "mesh3d": [
           {
            "colorbar": {
             "outlinewidth": 0,
             "ticks": ""
            },
            "type": "mesh3d"
           }
          ],
          "parcoords": [
           {
            "line": {
             "colorbar": {
              "outlinewidth": 0,
              "ticks": ""
             }
            },
            "type": "parcoords"
           }
          ],
          "pie": [
           {
            "automargin": true,
            "type": "pie"
           }
          ],
          "scatter": [
           {
            "fillpattern": {
             "fillmode": "overlay",
             "size": 10,
             "solidity": 0.2
            },
            "type": "scatter"
           }
          ],
          "scatter3d": [
           {
            "line": {
             "colorbar": {
              "outlinewidth": 0,
              "ticks": ""
             }
            },
            "marker": {
             "colorbar": {
              "outlinewidth": 0,
              "ticks": ""
             }
            },
            "type": "scatter3d"
           }
          ],
          "scattercarpet": [
           {
            "marker": {
             "colorbar": {
              "outlinewidth": 0,
              "ticks": ""
             }
            },
            "type": "scattercarpet"
           }
          ],
          "scattergeo": [
           {
            "marker": {
             "colorbar": {
              "outlinewidth": 0,
              "ticks": ""
             }
            },
            "type": "scattergeo"
           }
          ],
          "scattergl": [
           {
            "marker": {
             "colorbar": {
              "outlinewidth": 0,
              "ticks": ""
             }
            },
            "type": "scattergl"
           }
          ],
          "scattermapbox": [
           {
            "marker": {
             "colorbar": {
              "outlinewidth": 0,
              "ticks": ""
             }
            },
            "type": "scattermapbox"
           }
          ],
          "scatterpolar": [
           {
            "marker": {
             "colorbar": {
              "outlinewidth": 0,
              "ticks": ""
             }
            },
            "type": "scatterpolar"
           }
          ],
          "scatterpolargl": [
           {
            "marker": {
             "colorbar": {
              "outlinewidth": 0,
              "ticks": ""
             }
            },
            "type": "scatterpolargl"
           }
          ],
          "scatterternary": [
           {
            "marker": {
             "colorbar": {
              "outlinewidth": 0,
              "ticks": ""
             }
            },
            "type": "scatterternary"
           }
          ],
          "surface": [
           {
            "colorbar": {
             "outlinewidth": 0,
             "ticks": ""
            },
            "colorscale": [
             [
              0,
              "#0d0887"
             ],
             [
              0.1111111111111111,
              "#46039f"
             ],
             [
              0.2222222222222222,
              "#7201a8"
             ],
             [
              0.3333333333333333,
              "#9c179e"
             ],
             [
              0.4444444444444444,
              "#bd3786"
             ],
             [
              0.5555555555555556,
              "#d8576b"
             ],
             [
              0.6666666666666666,
              "#ed7953"
             ],
             [
              0.7777777777777778,
              "#fb9f3a"
             ],
             [
              0.8888888888888888,
              "#fdca26"
             ],
             [
              1,
              "#f0f921"
             ]
            ],
            "type": "surface"
           }
          ],
          "table": [
           {
            "cells": {
             "fill": {
              "color": "#EBF0F8"
             },
             "line": {
              "color": "white"
             }
            },
            "header": {
             "fill": {
              "color": "#C8D4E3"
             },
             "line": {
              "color": "white"
             }
            },
            "type": "table"
           }
          ]
         },
         "layout": {
          "annotationdefaults": {
           "arrowcolor": "#2a3f5f",
           "arrowhead": 0,
           "arrowwidth": 1
          },
          "autotypenumbers": "strict",
          "coloraxis": {
           "colorbar": {
            "outlinewidth": 0,
            "ticks": ""
           }
          },
          "colorscale": {
           "diverging": [
            [
             0,
             "#8e0152"
            ],
            [
             0.1,
             "#c51b7d"
            ],
            [
             0.2,
             "#de77ae"
            ],
            [
             0.3,
             "#f1b6da"
            ],
            [
             0.4,
             "#fde0ef"
            ],
            [
             0.5,
             "#f7f7f7"
            ],
            [
             0.6,
             "#e6f5d0"
            ],
            [
             0.7,
             "#b8e186"
            ],
            [
             0.8,
             "#7fbc41"
            ],
            [
             0.9,
             "#4d9221"
            ],
            [
             1,
             "#276419"
            ]
           ],
           "sequential": [
            [
             0,
             "#0d0887"
            ],
            [
             0.1111111111111111,
             "#46039f"
            ],
            [
             0.2222222222222222,
             "#7201a8"
            ],
            [
             0.3333333333333333,
             "#9c179e"
            ],
            [
             0.4444444444444444,
             "#bd3786"
            ],
            [
             0.5555555555555556,
             "#d8576b"
            ],
            [
             0.6666666666666666,
             "#ed7953"
            ],
            [
             0.7777777777777778,
             "#fb9f3a"
            ],
            [
             0.8888888888888888,
             "#fdca26"
            ],
            [
             1,
             "#f0f921"
            ]
           ],
           "sequentialminus": [
            [
             0,
             "#0d0887"
            ],
            [
             0.1111111111111111,
             "#46039f"
            ],
            [
             0.2222222222222222,
             "#7201a8"
            ],
            [
             0.3333333333333333,
             "#9c179e"
            ],
            [
             0.4444444444444444,
             "#bd3786"
            ],
            [
             0.5555555555555556,
             "#d8576b"
            ],
            [
             0.6666666666666666,
             "#ed7953"
            ],
            [
             0.7777777777777778,
             "#fb9f3a"
            ],
            [
             0.8888888888888888,
             "#fdca26"
            ],
            [
             1,
             "#f0f921"
            ]
           ]
          },
          "colorway": [
           "#636efa",
           "#EF553B",
           "#00cc96",
           "#ab63fa",
           "#FFA15A",
           "#19d3f3",
           "#FF6692",
           "#B6E880",
           "#FF97FF",
           "#FECB52"
          ],
          "font": {
           "color": "#2a3f5f"
          },
          "geo": {
           "bgcolor": "white",
           "lakecolor": "white",
           "landcolor": "#E5ECF6",
           "showlakes": true,
           "showland": true,
           "subunitcolor": "white"
          },
          "hoverlabel": {
           "align": "left"
          },
          "hovermode": "closest",
          "mapbox": {
           "style": "light"
          },
          "paper_bgcolor": "white",
          "plot_bgcolor": "#E5ECF6",
          "polar": {
           "angularaxis": {
            "gridcolor": "white",
            "linecolor": "white",
            "ticks": ""
           },
           "bgcolor": "#E5ECF6",
           "radialaxis": {
            "gridcolor": "white",
            "linecolor": "white",
            "ticks": ""
           }
          },
          "scene": {
           "xaxis": {
            "backgroundcolor": "#E5ECF6",
            "gridcolor": "white",
            "gridwidth": 2,
            "linecolor": "white",
            "showbackground": true,
            "ticks": "",
            "zerolinecolor": "white"
           },
           "yaxis": {
            "backgroundcolor": "#E5ECF6",
            "gridcolor": "white",
            "gridwidth": 2,
            "linecolor": "white",
            "showbackground": true,
            "ticks": "",
            "zerolinecolor": "white"
           },
           "zaxis": {
            "backgroundcolor": "#E5ECF6",
            "gridcolor": "white",
            "gridwidth": 2,
            "linecolor": "white",
            "showbackground": true,
            "ticks": "",
            "zerolinecolor": "white"
           }
          },
          "shapedefaults": {
           "line": {
            "color": "#2a3f5f"
           }
          },
          "ternary": {
           "aaxis": {
            "gridcolor": "white",
            "linecolor": "white",
            "ticks": ""
           },
           "baxis": {
            "gridcolor": "white",
            "linecolor": "white",
            "ticks": ""
           },
           "bgcolor": "#E5ECF6",
           "caxis": {
            "gridcolor": "white",
            "linecolor": "white",
            "ticks": ""
           }
          },
          "title": {
           "x": 0.05
          },
          "xaxis": {
           "automargin": true,
           "gridcolor": "white",
           "linecolor": "white",
           "ticks": "",
           "title": {
            "standoff": 15
           },
           "zerolinecolor": "white",
           "zerolinewidth": 2
          },
          "yaxis": {
           "automargin": true,
           "gridcolor": "white",
           "linecolor": "white",
           "ticks": "",
           "title": {
            "standoff": 15
           },
           "zerolinecolor": "white",
           "zerolinewidth": 2
          }
         }
        },
        "title": {
         "text": "Type of housing per year - Netherlands"
        }
       }
      }
     },
     "metadata": {},
     "output_type": "display_data"
    }
   ],
   "source": [
    "import pandas as pd\n",
    "import plotly.graph_objects as go\n",
    "from plotly.subplots import make_subplots\n",
    "\n",
    "df = pd.read_csv(\"Woningtype__regio_17062025_001601.csv\", delimiter=';')\n",
    "df.columns = df.columns.str.replace('\"', '').str.strip()\n",
    "\n",
    "selected_types = [\n",
    "    \"Unknown single-family home\",\n",
    "    \"detached house\",\n",
    "    \"semi-detached house\",\n",
    "    \"corner house\",\n",
    "    \"terraced house\",\n",
    "]\n",
    "df = df[df[\"Woningtype\"].isin(selected_types)]\n",
    "\n",
    "region = \"Nederland\"\n",
    "df_region = df[df[\"Regio's\"] == region]\n",
    "\n",
    "unique_periods = sorted(df_region[\"Perioden\"].unique())[-4:]\n",
    "\n",
    "fig = make_subplots(\n",
    "    rows=2, cols=2,\n",
    "    specs=[[{'type':'domain'}, {'type':'domain'}],\n",
    "           [{'type':'domain'}, {'type':'domain'}]],\n",
    "    subplot_titles=[f\"{year}\" for year in unique_periods]\n",
    ")\n",
    "\n",
    "positions = [(1, 1), (1, 2), (2, 1), (2, 2)]\n",
    "for i, period in enumerate(unique_periods):\n",
    "    row, col = positions[i]\n",
    "    df_year = df_region[df_region[\"Perioden\"] == period]\n",
    "    grouped = df_year.groupby(\"Woningtype\")[\"Beginstand woningvoorraad (aantal)\"].sum()\n",
    "\n",
    "    fig.add_trace(\n",
    "        go.Pie(labels=grouped.index, values=grouped.values, name=str(period)),\n",
    "        row=row, col=col\n",
    "    )\n",
    "\n",
    "fig.update_layout(\n",
    "    title_text=f\"Type of housing per year - Netherlands\",\n",
    "    height=700,\n",
    "    showlegend=True\n",
    ")\n",
    "\n",
    "fig.show()\n",
    "\n"
   ]
  },
  {
   "cell_type": "markdown",
   "metadata": {},
   "source": [
    "\n",
    "### 📊 Argument 2.3: Regional Price Differences Make Homeownership More Realistic\n",
    "As noted in the introduction, housing prices might also depend on location. The following graph will display the difference in house prices between different regions, emphasising the importance of looking at different regions.\n",
    "\n",
    "- **X-axis:** Dutch regions/municipalities\n",
    "- **Y-axis (left):** Average home purchase price (€)\n",
    "\n",
    "**Year Shown:** 2013 - 2024 (interactive)\n",
    "\n",
    "**Observations:**\n",
    "- Haarlem stands out as the most expensive region in 2024, with an average purchase price exceeding €550,000.\n",
    "- Utrecht, ’s-Hertogenbosch, and ’s-Gravenhage (The Hague) also show elevated prices—ranging between €450,000–€525,000 in 2024, reflecting strong demand and urban density.\n",
    "- At the lower end, Leeuwarden has the most affordable housing in every year, well below the national urban average.\n",
    "- The gap between the highest and lowest regions exceeds €240,000 in 2024, underscoring the influence of local market pressures, population density, and regional amenities on home prices.\n",
    "\n",
    "The chart clearly shows that there is almost always a better alternative. Living in the more populated citys might seem more attractive at first, but too few people manage to look at the bigger picture this chart shows. Housing might just need to be sought after at different locations, instead of staying at one part of the country. "
   ]
  },
  {
   "cell_type": "code",
   "execution_count": 5,
   "metadata": {},
   "outputs": [
    {
     "data": {
      "application/vnd.jupyter.widget-view+json": {
       "model_id": "d2f9ed2be8a744e6b58347bbb2192faa",
       "version_major": 2,
       "version_minor": 0
      },
      "text/plain": [
       "interactive(children=(Dropdown(description='year', options=(np.int64(2013), np.int64(2014), np.int64(2015), np…"
      ]
     },
     "metadata": {},
     "output_type": "display_data"
    },
    {
     "data": {
      "text/plain": [
       "<function __main__.plot_prices(year)>"
      ]
     },
     "execution_count": 5,
     "metadata": {},
     "output_type": "execute_result"
    }
   ],
   "source": [
    "import pandas as pd\n",
    "import matplotlib.pyplot as plt\n",
    "from ipywidgets import interact\n",
    "\n",
    "df = pd.read_csv(\"house_prices.csv\", sep=';')\n",
    "\n",
    "df.columns = ['Periods', 'Regions', 'Average purchase price (euro)']\n",
    "\n",
    "df['Regions'] = df['Regions'].astype(str).str.replace('\"', '').str.strip()\n",
    "df['Average purchase price (euro)'] = (\n",
    "    df['Average purchase price (euro)']\n",
    "    .astype(str)\n",
    "    .str.replace('\"', '')\n",
    "    .str.replace(' ', '')\n",
    ")\n",
    "df['Average purchase price (euro)'] = pd.to_numeric(df['Average purchase price (euro)'], errors='coerce')\n",
    "df = df.dropna(subset=['Average purchase price (euro)'])\n",
    "df['Periods'] = pd.to_numeric(df['Periods'], errors='coerce').astype(int) \n",
    "\n",
    "def plot_prices(year):\n",
    "    subset = df[df['Periods'] == year]\n",
    "    subset_sorted = subset.sort_values('Average purchase price (euro)', ascending=False)\n",
    "\n",
    "    plt.figure(figsize=(14, 6))\n",
    "    plt.bar(subset_sorted['Regions'], subset_sorted['Average purchase price (euro)'], color='#39A0ED')\n",
    "    plt.xticks(rotation=90)\n",
    "    plt.title(f'Average Purchase Price per Region - {int(year)}', fontsize=14)\n",
    "    plt.ylabel('€')\n",
    "    plt.grid(axis='y', linestyle=':', alpha=0.7)\n",
    "    plt.axhline(100000, color='gray', linestyle='--')\n",
    "    plt.tight_layout()\n",
    "    plt.show()\n",
    "\n",
    "interact(plot_prices, year=sorted(df['Periods'].unique()))"
   ]
  },
  {
   "cell_type": "markdown",
   "metadata": {},
   "source": [
    "### Summary of the second perspective\n",
    "\n",
    "The second perspective puts the housing market in bigger context. It shows not only the housing prices, but several other factors that could play a role in the housing market. As concluded from the first perspective, it is still clear that the house market in general is a rising problem. What the second perspective does show, is that there are external factors like location, place and interest that might alleviate the financial pressure when entering and surviving in the current housing market.  \n",
    "\n",
    "### General summary\n",
    "In conclusion it is clear that the growth of income does not nearly match the growth of house prices in almost every region. It is also made clear that starters have an even harder time entering the house market, needing to sacrifice an even bigger part of their income to enter the house market. While the house market is certainly growing to be worse than it already is, there might also be alternatives or different regions that might offer some realistic housing options, but these do not exist on a big enough scale yet. So, while the growth of house prices might seem daunting, there might be hope for external factors to lessen the burden.  "
   ]
  },
  {
   "cell_type": "markdown",
   "metadata": {},
   "source": [
    "### Reflection\n",
    "**Peer feedback**\n",
    "\n",
    "On june 24th, 2025, our team A4 gathered to get feedback from our TA and peer feedback from A3. We gathered to both pitch our infovisual and give peer feedback to the pitch of another group. After our pitch we received multiple points of feedback. The main positive point was the structure of our datastory, as well as our almost complete graphs. Besides the positve points, we also received several points of feedback for our infovisual, received from our TA as wel as group A3:\n",
    "- Technical problems with loading plots should be fixed, this includes empty white spaces and code errors.\n",
    "- Certain plots should be shows differently: starting plot from zero, too extensive for the amount of data and not using a logarithmic scale. \n",
    "- The perspectives and arguments should be shows in the introduction and referred to in the comments of the vissualisations.\n",
    "\n",
    "These problems were all quickly fixed the following days after the feedback. \n",
    "\n",
    "**Self-reflection**\n",
    "\n",
    "If the project lasted a few more weeks, we would've focussed on adding more quality above quantity. Most of the project was aimed towards showing the big picture of the entire Netherlands. While this was the aim of our project, it could have been interesting to be able to display more personal experiences of starters trying to enter the house market, which would give the info visual more in depth. Affordability is also subjective, so it would be interesting to find out what factors are important for a house to be seen as affordable. Another thing we did not go into is what makes house prices go up (such as Gregory D Sutton, 2022), but that might be better since that would make the subject to broad."
   ]
  },
  {
   "cell_type": "markdown",
   "metadata": {},
   "source": [
    " ### Work distribution\n",
    "\n",
    "To achieve clear communication between the entire team, we made several groups for both texts and voice calls. During our first meeting, we decided to each find datasets relating to the housing market. From those datasets, we were able to form several perspectives on our subject. From there, we were able to discuss possible graphs for each dataset. From there on out, we divided the graphs between each member of the team. After all the graphs were complete, we could create a story with a narrative around the visualisations. Every person was given the same amount of workload, which is as follows.  \n",
    "\n",
    "- **Hugo** \n",
    "\n",
    "Hugo firstly took a major role in setting up the project, including the GitHub page and deciding the subject of the project. Besides that, he was in charge of setting up the core of the first perspective, by making and visualising two different arguments that formed the start of the data story. \n",
    "\n",
    "- **Mees**\n",
    "\n",
    "Mees worked on the final part of the project. This included the last two arguments and their respective visualisation. He also took charge in writing the introduction, reflection and work distribution. He also participated in making the “Dataset and preprocessing” part. He also took charge in presenting the draft as well as noting the given peer feedback. He also worked on the general structure of the project.\n",
    "\n",
    "- **Mark** \n",
    "\n",
    "Mark was in charge of starting the first argument of the second perspective by creating a visualisation of the impact of the interest rates on the house market. He needed to use two datasets and run several calculations.  \n",
    "\n",
    "- **Robin** \n",
    "\n",
    "Robin was in charge of wrapping up the first argument by making an interactive visualisation combining two datasets to create a visualisation that compares the growth of house prices and income. He also participated in making the “Dataset and preprocessing” part. "
   ]
  },
  {
   "cell_type": "markdown",
   "metadata": {},
   "source": [
    "### References\n",
    "\n",
    "- CBS Statline. (n.d.). https://opendata.cbs.nl/StatLine/#/CBS/nl/dataset/83625NED/table?ts=1750971263464\n",
    "- CBS Statline. (n.d.-b). https://opendata.cbs.nl/#/CBS/nl/dataset/85035NED/table?searchKeywords=eengezinswoning\n",
    "- CBS Statline. (n.d.-c). https://opendata.cbs.nl/statline/#/CBS/nl/dataset/70072ned/table?ts=1750024841595\n",
    "- Sutton, G. D. (2002). BIS Quarterly Review, September 2002. https://www.bis.org/publ/qtrpdf/r_qt0209f.pdf\n",
    "- Knoll, K., Schularick, M., & Steger, T. (2017). No price Like Home: Global House Prices, 1870–2012. American Economic Review, 107(2), 331–353. https://doi.org/10.1257/aer.20150501\n",
    "- Shearer, H., & Burton, P. (2018). Towards a Typology of Tiny Houses. Housing Theory And Society, 36(3), 298–318. https://doi.org/10.1080/14036096.2018.148787\n",
    "- E.M.J. Veerhoek. (2024). First-time buyers on the Dutch housing market – the starters dilemma. https://repository.tudelft.nl/record/uuid:ad545858-5b32-4f20-ad15-c44595d186b8"
   ]
  }
 ],
 "metadata": {
  "kernelspec": {
   "display_name": "Python 3",
   "language": "python",
   "name": "python3"
  },
  "language_info": {
   "codemirror_mode": {
    "name": "ipython",
    "version": 3
   },
   "file_extension": ".py",
   "mimetype": "text/x-python",
   "name": "python",
   "nbconvert_exporter": "python",
   "pygments_lexer": "ipython3",
   "version": "3.12.0"
  }
 },
 "nbformat": 4,
 "nbformat_minor": 2
}
